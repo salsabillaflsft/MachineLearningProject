{
  "nbformat": 4,
  "nbformat_minor": 0,
  "metadata": {
    "colab": {
      "name": "recommender-project.ipynb",
      "provenance": [],
      "mount_file_id": "1eF36Hr59Md8AH9d0hzx0hNOMNjPHWImm",
      "authorship_tag": "ABX9TyM3EZgC1mCxsXUdzxjnTVFq",
      "include_colab_link": true
    },
    "kernelspec": {
      "name": "python3",
      "display_name": "Python 3"
    },
    "language_info": {
      "name": "python"
    }
  },
  "cells": [
    {
      "cell_type": "markdown",
      "metadata": {
        "id": "view-in-github",
        "colab_type": "text"
      },
      "source": [
        "<a href=\"https://colab.research.google.com/github/salsabillaflsft/MachineLearningProject/blob/main/recommender_project.ipynb\" target=\"_parent\"><img src=\"https://colab.research.google.com/assets/colab-badge.svg\" alt=\"Open In Colab\"/></a>"
      ]
    },
    {
      "cell_type": "markdown",
      "source": [
        "### Import Library"
      ],
      "metadata": {
        "id": "T-uCvbEmmAQZ"
      }
    },
    {
      "cell_type": "code",
      "execution_count": null,
      "metadata": {
        "id": "GWJJ0QGwhwQ1"
      },
      "outputs": [],
      "source": [
        "import numpy as np # mathematical functions\n",
        "import pandas as pd # data processing\n",
        "import seaborn as sns\n",
        "import matplotlib.pyplot as plt"
      ]
    },
    {
      "cell_type": "markdown",
      "source": [
        "### Import Data"
      ],
      "metadata": {
        "id": "FyYkQzRDl5_c"
      }
    },
    {
      "cell_type": "code",
      "source": [
        "#from google.colab import drive\n",
        "#drive.mount('/content/drive')\n",
        "%cd /content/drive/My Drive/Course/Project-ML"
      ],
      "metadata": {
        "colab": {
          "base_uri": "https://localhost:8080/"
        },
        "id": "U9HnYo45JQxx",
        "outputId": "be62ed8b-6805-4c18-c361-2e515586cce0"
      },
      "execution_count": null,
      "outputs": [
        {
          "output_type": "stream",
          "name": "stdout",
          "text": [
            "/content/drive/My Drive/Course/Project-ML\n"
          ]
        }
      ]
    },
    {
      "cell_type": "markdown",
      "source": [
        "### Data Cleansing"
      ],
      "metadata": {
        "id": "FyRboilgRsul"
      }
    },
    {
      "cell_type": "code",
      "source": [
        "data = pd.read_csv(\"coins.csv\")\n",
        "data.head()"
      ],
      "metadata": {
        "id": "aSe0-Rr0ivkH",
        "colab": {
          "base_uri": "https://localhost:8080/",
          "height": 629
        },
        "outputId": "60d68732-b9d6-46f2-db21-637137a3a5b9"
      },
      "execution_count": null,
      "outputs": [
        {
          "output_type": "execute_result",
          "data": {
            "text/plain": [
              "   id       name       slug symbol  status category  \\\n",
              "0   1    Bitcoin    bitcoin    BTC  active     coin   \n",
              "1   2   Litecoin   litecoin    LTC  active     coin   \n",
              "2   3   Namecoin   namecoin    NMC  active     coin   \n",
              "3   4  Terracoin  terracoin    TRC  active     coin   \n",
              "4   5   Peercoin   peercoin    PPC  active     coin   \n",
              "\n",
              "                                         description  subreddit notice  \\\n",
              "0  ## **What Is Bitcoin (BTC)?**\\n\\nBitcoin is a ...    bitcoin    NaN   \n",
              "1  ## What Is Litecoin (LTC)?\\n\\nLitecoin (LTC) i...   litecoin    NaN   \n",
              "2  Namecoin (NMC) is a cryptocurrency . Users are...   namecoin    NaN   \n",
              "3  Terracoin (TRC) launched in 2012 with the aim ...  terracoin    NaN   \n",
              "4  Peercoin (PPC) is a cryptocurrency . Users are...   peercoin    NaN   \n",
              "\n",
              "                                                tags  ...  \\\n",
              "0  mineable, pow, sha-256, store-of-value, state-...  ...   \n",
              "1  mineable, pow, scrypt, medium-of-exchange, bin...  ...   \n",
              "2                   mineable, pow, sha-256, platform  ...   \n",
              "3                mineable, pow, sha-256, masternodes  ...   \n",
              "4  mineable, hybrid-pow-pos, sha-256, medium-of-e...  ...   \n",
              "\n",
              "                                       message_board  \\\n",
              "0                            https://bitcointalk.org   \n",
              "1  https://litecointalk.io/, https://litecoin-fou...   \n",
              "2                                                NaN   \n",
              "3                  https://medium.com/@clockuniverse   \n",
              "4                          https://talk.peercoin.net   \n",
              "\n",
              "                                                chat  \\\n",
              "0                                                NaN   \n",
              "1                       https://telegram.me/litecoin   \n",
              "2                       https://telegram.me/namecoin   \n",
              "3  https://mattermost.terracoin.io/, https://t.me...   \n",
              "4  https://t.me/peercoin, https://discord.gg/m294ReV   \n",
              "\n",
              "                                            explorer  \\\n",
              "0  https://blockchain.coinmarketcap.com/chain/bit...   \n",
              "1  https://blockchair.com/litecoin, https://chain...   \n",
              "2  https://nmc.tokenview.com/, https://www.namebr...   \n",
              "3  https://insight.terracoin.io/, https://explore...   \n",
              "4  https://chainz.cryptoid.info/ppc/, https://exp...   \n",
              "\n",
              "                           reddit                              technical_doc  \\\n",
              "0    https://reddit.com/r/bitcoin            https://bitcoin.org/bitcoin.pdf   \n",
              "1   https://reddit.com/r/litecoin                                        NaN   \n",
              "2   https://reddit.com/r/namecoin                                        NaN   \n",
              "3  https://reddit.com/r/terracoin  https://wiki.terracoin.io/view/Whitepaper   \n",
              "4   https://reddit.com/r/peercoin                 https://docs.peercoin.net/   \n",
              "\n",
              "                                    source_code  \\\n",
              "0                   https://github.com/bitcoin/   \n",
              "1  https://github.com/litecoin-project/litecoin   \n",
              "2                   https://github.com/namecoin   \n",
              "3                  https://github.com/terracoin   \n",
              "4                   https://github.com/peercoin   \n",
              "\n",
              "                                        announcement platform_id  \\\n",
              "0                                                NaN         NaN   \n",
              "1    https://bitcointalk.org/index.php?topic=47417.0         NaN   \n",
              "2              https://bitcointalk.org/?topic=6017.0         NaN   \n",
              "3  https://bitcointalk.org/index.php?topic=1364146.0         NaN   \n",
              "4   https://bitcointalk.org/index.php?topic=101820.0         NaN   \n",
              "\n",
              "                 date_added date_launched  \n",
              "0  2013-04-28T00:00:00.000Z           NaN  \n",
              "1  2013-04-28T00:00:00.000Z           NaN  \n",
              "2  2013-04-28T00:00:00.000Z           NaN  \n",
              "3  2013-04-28T00:00:00.000Z           NaN  \n",
              "4  2013-04-28T00:00:00.000Z           NaN  \n",
              "\n",
              "[5 rows x 23 columns]"
            ],
            "text/html": [
              "\n",
              "  <div id=\"df-afe9c689-de99-4cb2-812f-3cbd59e4f4b2\">\n",
              "    <div class=\"colab-df-container\">\n",
              "      <div>\n",
              "<style scoped>\n",
              "    .dataframe tbody tr th:only-of-type {\n",
              "        vertical-align: middle;\n",
              "    }\n",
              "\n",
              "    .dataframe tbody tr th {\n",
              "        vertical-align: top;\n",
              "    }\n",
              "\n",
              "    .dataframe thead th {\n",
              "        text-align: right;\n",
              "    }\n",
              "</style>\n",
              "<table border=\"1\" class=\"dataframe\">\n",
              "  <thead>\n",
              "    <tr style=\"text-align: right;\">\n",
              "      <th></th>\n",
              "      <th>id</th>\n",
              "      <th>name</th>\n",
              "      <th>slug</th>\n",
              "      <th>symbol</th>\n",
              "      <th>status</th>\n",
              "      <th>category</th>\n",
              "      <th>description</th>\n",
              "      <th>subreddit</th>\n",
              "      <th>notice</th>\n",
              "      <th>tags</th>\n",
              "      <th>...</th>\n",
              "      <th>message_board</th>\n",
              "      <th>chat</th>\n",
              "      <th>explorer</th>\n",
              "      <th>reddit</th>\n",
              "      <th>technical_doc</th>\n",
              "      <th>source_code</th>\n",
              "      <th>announcement</th>\n",
              "      <th>platform_id</th>\n",
              "      <th>date_added</th>\n",
              "      <th>date_launched</th>\n",
              "    </tr>\n",
              "  </thead>\n",
              "  <tbody>\n",
              "    <tr>\n",
              "      <th>0</th>\n",
              "      <td>1</td>\n",
              "      <td>Bitcoin</td>\n",
              "      <td>bitcoin</td>\n",
              "      <td>BTC</td>\n",
              "      <td>active</td>\n",
              "      <td>coin</td>\n",
              "      <td>## **What Is Bitcoin (BTC)?**\\n\\nBitcoin is a ...</td>\n",
              "      <td>bitcoin</td>\n",
              "      <td>NaN</td>\n",
              "      <td>mineable, pow, sha-256, store-of-value, state-...</td>\n",
              "      <td>...</td>\n",
              "      <td>https://bitcointalk.org</td>\n",
              "      <td>NaN</td>\n",
              "      <td>https://blockchain.coinmarketcap.com/chain/bit...</td>\n",
              "      <td>https://reddit.com/r/bitcoin</td>\n",
              "      <td>https://bitcoin.org/bitcoin.pdf</td>\n",
              "      <td>https://github.com/bitcoin/</td>\n",
              "      <td>NaN</td>\n",
              "      <td>NaN</td>\n",
              "      <td>2013-04-28T00:00:00.000Z</td>\n",
              "      <td>NaN</td>\n",
              "    </tr>\n",
              "    <tr>\n",
              "      <th>1</th>\n",
              "      <td>2</td>\n",
              "      <td>Litecoin</td>\n",
              "      <td>litecoin</td>\n",
              "      <td>LTC</td>\n",
              "      <td>active</td>\n",
              "      <td>coin</td>\n",
              "      <td>## What Is Litecoin (LTC)?\\n\\nLitecoin (LTC) i...</td>\n",
              "      <td>litecoin</td>\n",
              "      <td>NaN</td>\n",
              "      <td>mineable, pow, scrypt, medium-of-exchange, bin...</td>\n",
              "      <td>...</td>\n",
              "      <td>https://litecointalk.io/, https://litecoin-fou...</td>\n",
              "      <td>https://telegram.me/litecoin</td>\n",
              "      <td>https://blockchair.com/litecoin, https://chain...</td>\n",
              "      <td>https://reddit.com/r/litecoin</td>\n",
              "      <td>NaN</td>\n",
              "      <td>https://github.com/litecoin-project/litecoin</td>\n",
              "      <td>https://bitcointalk.org/index.php?topic=47417.0</td>\n",
              "      <td>NaN</td>\n",
              "      <td>2013-04-28T00:00:00.000Z</td>\n",
              "      <td>NaN</td>\n",
              "    </tr>\n",
              "    <tr>\n",
              "      <th>2</th>\n",
              "      <td>3</td>\n",
              "      <td>Namecoin</td>\n",
              "      <td>namecoin</td>\n",
              "      <td>NMC</td>\n",
              "      <td>active</td>\n",
              "      <td>coin</td>\n",
              "      <td>Namecoin (NMC) is a cryptocurrency . Users are...</td>\n",
              "      <td>namecoin</td>\n",
              "      <td>NaN</td>\n",
              "      <td>mineable, pow, sha-256, platform</td>\n",
              "      <td>...</td>\n",
              "      <td>NaN</td>\n",
              "      <td>https://telegram.me/namecoin</td>\n",
              "      <td>https://nmc.tokenview.com/, https://www.namebr...</td>\n",
              "      <td>https://reddit.com/r/namecoin</td>\n",
              "      <td>NaN</td>\n",
              "      <td>https://github.com/namecoin</td>\n",
              "      <td>https://bitcointalk.org/?topic=6017.0</td>\n",
              "      <td>NaN</td>\n",
              "      <td>2013-04-28T00:00:00.000Z</td>\n",
              "      <td>NaN</td>\n",
              "    </tr>\n",
              "    <tr>\n",
              "      <th>3</th>\n",
              "      <td>4</td>\n",
              "      <td>Terracoin</td>\n",
              "      <td>terracoin</td>\n",
              "      <td>TRC</td>\n",
              "      <td>active</td>\n",
              "      <td>coin</td>\n",
              "      <td>Terracoin (TRC) launched in 2012 with the aim ...</td>\n",
              "      <td>terracoin</td>\n",
              "      <td>NaN</td>\n",
              "      <td>mineable, pow, sha-256, masternodes</td>\n",
              "      <td>...</td>\n",
              "      <td>https://medium.com/@clockuniverse</td>\n",
              "      <td>https://mattermost.terracoin.io/, https://t.me...</td>\n",
              "      <td>https://insight.terracoin.io/, https://explore...</td>\n",
              "      <td>https://reddit.com/r/terracoin</td>\n",
              "      <td>https://wiki.terracoin.io/view/Whitepaper</td>\n",
              "      <td>https://github.com/terracoin</td>\n",
              "      <td>https://bitcointalk.org/index.php?topic=1364146.0</td>\n",
              "      <td>NaN</td>\n",
              "      <td>2013-04-28T00:00:00.000Z</td>\n",
              "      <td>NaN</td>\n",
              "    </tr>\n",
              "    <tr>\n",
              "      <th>4</th>\n",
              "      <td>5</td>\n",
              "      <td>Peercoin</td>\n",
              "      <td>peercoin</td>\n",
              "      <td>PPC</td>\n",
              "      <td>active</td>\n",
              "      <td>coin</td>\n",
              "      <td>Peercoin (PPC) is a cryptocurrency . Users are...</td>\n",
              "      <td>peercoin</td>\n",
              "      <td>NaN</td>\n",
              "      <td>mineable, hybrid-pow-pos, sha-256, medium-of-e...</td>\n",
              "      <td>...</td>\n",
              "      <td>https://talk.peercoin.net</td>\n",
              "      <td>https://t.me/peercoin, https://discord.gg/m294ReV</td>\n",
              "      <td>https://chainz.cryptoid.info/ppc/, https://exp...</td>\n",
              "      <td>https://reddit.com/r/peercoin</td>\n",
              "      <td>https://docs.peercoin.net/</td>\n",
              "      <td>https://github.com/peercoin</td>\n",
              "      <td>https://bitcointalk.org/index.php?topic=101820.0</td>\n",
              "      <td>NaN</td>\n",
              "      <td>2013-04-28T00:00:00.000Z</td>\n",
              "      <td>NaN</td>\n",
              "    </tr>\n",
              "  </tbody>\n",
              "</table>\n",
              "<p>5 rows × 23 columns</p>\n",
              "</div>\n",
              "      <button class=\"colab-df-convert\" onclick=\"convertToInteractive('df-afe9c689-de99-4cb2-812f-3cbd59e4f4b2')\"\n",
              "              title=\"Convert this dataframe to an interactive table.\"\n",
              "              style=\"display:none;\">\n",
              "        \n",
              "  <svg xmlns=\"http://www.w3.org/2000/svg\" height=\"24px\"viewBox=\"0 0 24 24\"\n",
              "       width=\"24px\">\n",
              "    <path d=\"M0 0h24v24H0V0z\" fill=\"none\"/>\n",
              "    <path d=\"M18.56 5.44l.94 2.06.94-2.06 2.06-.94-2.06-.94-.94-2.06-.94 2.06-2.06.94zm-11 1L8.5 8.5l.94-2.06 2.06-.94-2.06-.94L8.5 2.5l-.94 2.06-2.06.94zm10 10l.94 2.06.94-2.06 2.06-.94-2.06-.94-.94-2.06-.94 2.06-2.06.94z\"/><path d=\"M17.41 7.96l-1.37-1.37c-.4-.4-.92-.59-1.43-.59-.52 0-1.04.2-1.43.59L10.3 9.45l-7.72 7.72c-.78.78-.78 2.05 0 2.83L4 21.41c.39.39.9.59 1.41.59.51 0 1.02-.2 1.41-.59l7.78-7.78 2.81-2.81c.8-.78.8-2.07 0-2.86zM5.41 20L4 18.59l7.72-7.72 1.47 1.35L5.41 20z\"/>\n",
              "  </svg>\n",
              "      </button>\n",
              "      \n",
              "  <style>\n",
              "    .colab-df-container {\n",
              "      display:flex;\n",
              "      flex-wrap:wrap;\n",
              "      gap: 12px;\n",
              "    }\n",
              "\n",
              "    .colab-df-convert {\n",
              "      background-color: #E8F0FE;\n",
              "      border: none;\n",
              "      border-radius: 50%;\n",
              "      cursor: pointer;\n",
              "      display: none;\n",
              "      fill: #1967D2;\n",
              "      height: 32px;\n",
              "      padding: 0 0 0 0;\n",
              "      width: 32px;\n",
              "    }\n",
              "\n",
              "    .colab-df-convert:hover {\n",
              "      background-color: #E2EBFA;\n",
              "      box-shadow: 0px 1px 2px rgba(60, 64, 67, 0.3), 0px 1px 3px 1px rgba(60, 64, 67, 0.15);\n",
              "      fill: #174EA6;\n",
              "    }\n",
              "\n",
              "    [theme=dark] .colab-df-convert {\n",
              "      background-color: #3B4455;\n",
              "      fill: #D2E3FC;\n",
              "    }\n",
              "\n",
              "    [theme=dark] .colab-df-convert:hover {\n",
              "      background-color: #434B5C;\n",
              "      box-shadow: 0px 1px 3px 1px rgba(0, 0, 0, 0.15);\n",
              "      filter: drop-shadow(0px 1px 2px rgba(0, 0, 0, 0.3));\n",
              "      fill: #FFFFFF;\n",
              "    }\n",
              "  </style>\n",
              "\n",
              "      <script>\n",
              "        const buttonEl =\n",
              "          document.querySelector('#df-afe9c689-de99-4cb2-812f-3cbd59e4f4b2 button.colab-df-convert');\n",
              "        buttonEl.style.display =\n",
              "          google.colab.kernel.accessAllowed ? 'block' : 'none';\n",
              "\n",
              "        async function convertToInteractive(key) {\n",
              "          const element = document.querySelector('#df-afe9c689-de99-4cb2-812f-3cbd59e4f4b2');\n",
              "          const dataTable =\n",
              "            await google.colab.kernel.invokeFunction('convertToInteractive',\n",
              "                                                     [key], {});\n",
              "          if (!dataTable) return;\n",
              "\n",
              "          const docLinkHtml = 'Like what you see? Visit the ' +\n",
              "            '<a target=\"_blank\" href=https://colab.research.google.com/notebooks/data_table.ipynb>data table notebook</a>'\n",
              "            + ' to learn more about interactive tables.';\n",
              "          element.innerHTML = '';\n",
              "          dataTable['output_type'] = 'display_data';\n",
              "          await google.colab.output.renderOutput(dataTable, element);\n",
              "          const docLink = document.createElement('div');\n",
              "          docLink.innerHTML = docLinkHtml;\n",
              "          element.appendChild(docLink);\n",
              "        }\n",
              "      </script>\n",
              "    </div>\n",
              "  </div>\n",
              "  "
            ]
          },
          "metadata": {},
          "execution_count": 9
        }
      ]
    },
    {
      "cell_type": "code",
      "source": [
        "data.shape #check data shape"
      ],
      "metadata": {
        "id": "BAxn0euLrL8L",
        "colab": {
          "base_uri": "https://localhost:8080/"
        },
        "outputId": "e483bcc0-c954-4518-e34d-c9c3fea65c98"
      },
      "execution_count": null,
      "outputs": [
        {
          "output_type": "execute_result",
          "data": {
            "text/plain": [
              "(8927, 23)"
            ]
          },
          "metadata": {},
          "execution_count": 10
        }
      ]
    },
    {
      "cell_type": "code",
      "source": [
        "#drop unused colums\n",
        "data = data.drop(columns=['description','subreddit','notice','twitter','message_board','chat','explorer','reddit','technical_doc','source_code','announcement','platform_id','date_added','date_launched'])"
      ],
      "metadata": {
        "id": "8jA8bh3aJZyH"
      },
      "execution_count": null,
      "outputs": []
    },
    {
      "cell_type": "code",
      "source": [
        "data.head()"
      ],
      "metadata": {
        "colab": {
          "base_uri": "https://localhost:8080/",
          "height": 206
        },
        "id": "BzE9pYEmLjyy",
        "outputId": "dea0668c-55c0-4b47-8924-080afad1f964"
      },
      "execution_count": null,
      "outputs": [
        {
          "output_type": "execute_result",
          "data": {
            "text/plain": [
              "   id       name       slug symbol  status category  \\\n",
              "0   1    Bitcoin    bitcoin    BTC  active     coin   \n",
              "1   2   Litecoin   litecoin    LTC  active     coin   \n",
              "2   3   Namecoin   namecoin    NMC  active     coin   \n",
              "3   4  Terracoin  terracoin    TRC  active     coin   \n",
              "4   5   Peercoin   peercoin    PPC  active     coin   \n",
              "\n",
              "                                                tags  \\\n",
              "0  mineable, pow, sha-256, store-of-value, state-...   \n",
              "1  mineable, pow, scrypt, medium-of-exchange, bin...   \n",
              "2                   mineable, pow, sha-256, platform   \n",
              "3                mineable, pow, sha-256, masternodes   \n",
              "4  mineable, hybrid-pow-pos, sha-256, medium-of-e...   \n",
              "\n",
              "                                           tag_names  \\\n",
              "0  Mineable, PoW, SHA-256, Store of Value, State ...   \n",
              "1  Mineable, PoW, Scrypt, Medium of Exchange, Bin...   \n",
              "2                   Mineable, PoW, SHA-256, Platform   \n",
              "3                Mineable, PoW, SHA-256, Masternodes   \n",
              "4  Mineable, Hybrid - PoW & PoS, SHA-256, Medium ...   \n",
              "\n",
              "                     website  \n",
              "0       https://bitcoin.org/  \n",
              "1      https://litecoin.org/  \n",
              "2  https://www.namecoin.org/  \n",
              "3   http://www.terracoin.io/  \n",
              "4    http://www.peercoin.net  "
            ],
            "text/html": [
              "\n",
              "  <div id=\"df-abe348b1-ca43-4df3-b0c5-d43e3800688b\">\n",
              "    <div class=\"colab-df-container\">\n",
              "      <div>\n",
              "<style scoped>\n",
              "    .dataframe tbody tr th:only-of-type {\n",
              "        vertical-align: middle;\n",
              "    }\n",
              "\n",
              "    .dataframe tbody tr th {\n",
              "        vertical-align: top;\n",
              "    }\n",
              "\n",
              "    .dataframe thead th {\n",
              "        text-align: right;\n",
              "    }\n",
              "</style>\n",
              "<table border=\"1\" class=\"dataframe\">\n",
              "  <thead>\n",
              "    <tr style=\"text-align: right;\">\n",
              "      <th></th>\n",
              "      <th>id</th>\n",
              "      <th>name</th>\n",
              "      <th>slug</th>\n",
              "      <th>symbol</th>\n",
              "      <th>status</th>\n",
              "      <th>category</th>\n",
              "      <th>tags</th>\n",
              "      <th>tag_names</th>\n",
              "      <th>website</th>\n",
              "    </tr>\n",
              "  </thead>\n",
              "  <tbody>\n",
              "    <tr>\n",
              "      <th>0</th>\n",
              "      <td>1</td>\n",
              "      <td>Bitcoin</td>\n",
              "      <td>bitcoin</td>\n",
              "      <td>BTC</td>\n",
              "      <td>active</td>\n",
              "      <td>coin</td>\n",
              "      <td>mineable, pow, sha-256, store-of-value, state-...</td>\n",
              "      <td>Mineable, PoW, SHA-256, Store of Value, State ...</td>\n",
              "      <td>https://bitcoin.org/</td>\n",
              "    </tr>\n",
              "    <tr>\n",
              "      <th>1</th>\n",
              "      <td>2</td>\n",
              "      <td>Litecoin</td>\n",
              "      <td>litecoin</td>\n",
              "      <td>LTC</td>\n",
              "      <td>active</td>\n",
              "      <td>coin</td>\n",
              "      <td>mineable, pow, scrypt, medium-of-exchange, bin...</td>\n",
              "      <td>Mineable, PoW, Scrypt, Medium of Exchange, Bin...</td>\n",
              "      <td>https://litecoin.org/</td>\n",
              "    </tr>\n",
              "    <tr>\n",
              "      <th>2</th>\n",
              "      <td>3</td>\n",
              "      <td>Namecoin</td>\n",
              "      <td>namecoin</td>\n",
              "      <td>NMC</td>\n",
              "      <td>active</td>\n",
              "      <td>coin</td>\n",
              "      <td>mineable, pow, sha-256, platform</td>\n",
              "      <td>Mineable, PoW, SHA-256, Platform</td>\n",
              "      <td>https://www.namecoin.org/</td>\n",
              "    </tr>\n",
              "    <tr>\n",
              "      <th>3</th>\n",
              "      <td>4</td>\n",
              "      <td>Terracoin</td>\n",
              "      <td>terracoin</td>\n",
              "      <td>TRC</td>\n",
              "      <td>active</td>\n",
              "      <td>coin</td>\n",
              "      <td>mineable, pow, sha-256, masternodes</td>\n",
              "      <td>Mineable, PoW, SHA-256, Masternodes</td>\n",
              "      <td>http://www.terracoin.io/</td>\n",
              "    </tr>\n",
              "    <tr>\n",
              "      <th>4</th>\n",
              "      <td>5</td>\n",
              "      <td>Peercoin</td>\n",
              "      <td>peercoin</td>\n",
              "      <td>PPC</td>\n",
              "      <td>active</td>\n",
              "      <td>coin</td>\n",
              "      <td>mineable, hybrid-pow-pos, sha-256, medium-of-e...</td>\n",
              "      <td>Mineable, Hybrid - PoW &amp; PoS, SHA-256, Medium ...</td>\n",
              "      <td>http://www.peercoin.net</td>\n",
              "    </tr>\n",
              "  </tbody>\n",
              "</table>\n",
              "</div>\n",
              "      <button class=\"colab-df-convert\" onclick=\"convertToInteractive('df-abe348b1-ca43-4df3-b0c5-d43e3800688b')\"\n",
              "              title=\"Convert this dataframe to an interactive table.\"\n",
              "              style=\"display:none;\">\n",
              "        \n",
              "  <svg xmlns=\"http://www.w3.org/2000/svg\" height=\"24px\"viewBox=\"0 0 24 24\"\n",
              "       width=\"24px\">\n",
              "    <path d=\"M0 0h24v24H0V0z\" fill=\"none\"/>\n",
              "    <path d=\"M18.56 5.44l.94 2.06.94-2.06 2.06-.94-2.06-.94-.94-2.06-.94 2.06-2.06.94zm-11 1L8.5 8.5l.94-2.06 2.06-.94-2.06-.94L8.5 2.5l-.94 2.06-2.06.94zm10 10l.94 2.06.94-2.06 2.06-.94-2.06-.94-.94-2.06-.94 2.06-2.06.94z\"/><path d=\"M17.41 7.96l-1.37-1.37c-.4-.4-.92-.59-1.43-.59-.52 0-1.04.2-1.43.59L10.3 9.45l-7.72 7.72c-.78.78-.78 2.05 0 2.83L4 21.41c.39.39.9.59 1.41.59.51 0 1.02-.2 1.41-.59l7.78-7.78 2.81-2.81c.8-.78.8-2.07 0-2.86zM5.41 20L4 18.59l7.72-7.72 1.47 1.35L5.41 20z\"/>\n",
              "  </svg>\n",
              "      </button>\n",
              "      \n",
              "  <style>\n",
              "    .colab-df-container {\n",
              "      display:flex;\n",
              "      flex-wrap:wrap;\n",
              "      gap: 12px;\n",
              "    }\n",
              "\n",
              "    .colab-df-convert {\n",
              "      background-color: #E8F0FE;\n",
              "      border: none;\n",
              "      border-radius: 50%;\n",
              "      cursor: pointer;\n",
              "      display: none;\n",
              "      fill: #1967D2;\n",
              "      height: 32px;\n",
              "      padding: 0 0 0 0;\n",
              "      width: 32px;\n",
              "    }\n",
              "\n",
              "    .colab-df-convert:hover {\n",
              "      background-color: #E2EBFA;\n",
              "      box-shadow: 0px 1px 2px rgba(60, 64, 67, 0.3), 0px 1px 3px 1px rgba(60, 64, 67, 0.15);\n",
              "      fill: #174EA6;\n",
              "    }\n",
              "\n",
              "    [theme=dark] .colab-df-convert {\n",
              "      background-color: #3B4455;\n",
              "      fill: #D2E3FC;\n",
              "    }\n",
              "\n",
              "    [theme=dark] .colab-df-convert:hover {\n",
              "      background-color: #434B5C;\n",
              "      box-shadow: 0px 1px 3px 1px rgba(0, 0, 0, 0.15);\n",
              "      filter: drop-shadow(0px 1px 2px rgba(0, 0, 0, 0.3));\n",
              "      fill: #FFFFFF;\n",
              "    }\n",
              "  </style>\n",
              "\n",
              "      <script>\n",
              "        const buttonEl =\n",
              "          document.querySelector('#df-abe348b1-ca43-4df3-b0c5-d43e3800688b button.colab-df-convert');\n",
              "        buttonEl.style.display =\n",
              "          google.colab.kernel.accessAllowed ? 'block' : 'none';\n",
              "\n",
              "        async function convertToInteractive(key) {\n",
              "          const element = document.querySelector('#df-abe348b1-ca43-4df3-b0c5-d43e3800688b');\n",
              "          const dataTable =\n",
              "            await google.colab.kernel.invokeFunction('convertToInteractive',\n",
              "                                                     [key], {});\n",
              "          if (!dataTable) return;\n",
              "\n",
              "          const docLinkHtml = 'Like what you see? Visit the ' +\n",
              "            '<a target=\"_blank\" href=https://colab.research.google.com/notebooks/data_table.ipynb>data table notebook</a>'\n",
              "            + ' to learn more about interactive tables.';\n",
              "          element.innerHTML = '';\n",
              "          dataTable['output_type'] = 'display_data';\n",
              "          await google.colab.output.renderOutput(dataTable, element);\n",
              "          const docLink = document.createElement('div');\n",
              "          docLink.innerHTML = docLinkHtml;\n",
              "          element.appendChild(docLink);\n",
              "        }\n",
              "      </script>\n",
              "    </div>\n",
              "  </div>\n",
              "  "
            ]
          },
          "metadata": {},
          "execution_count": 12
        }
      ]
    },
    {
      "cell_type": "code",
      "source": [
        "#check data shape\n",
        "data.shape"
      ],
      "metadata": {
        "colab": {
          "base_uri": "https://localhost:8080/"
        },
        "id": "p7ZfhcOTLfxl",
        "outputId": "6d2ef775-1609-4247-ce9f-d59148754450"
      },
      "execution_count": null,
      "outputs": [
        {
          "output_type": "execute_result",
          "data": {
            "text/plain": [
              "(8927, 9)"
            ]
          },
          "metadata": {},
          "execution_count": 13
        }
      ]
    },
    {
      "cell_type": "code",
      "source": [
        "#check each data type of columns and missing values\n",
        "data.info() \n",
        "data.isnull().sum() \n",
        "#/ data.shape[0] * 100"
      ],
      "metadata": {
        "colab": {
          "base_uri": "https://localhost:8080/"
        },
        "id": "eTJUiXE8Lqke",
        "outputId": "75ce2148-05e1-41a9-9bc9-d09e29d3cf7b"
      },
      "execution_count": null,
      "outputs": [
        {
          "output_type": "stream",
          "name": "stdout",
          "text": [
            "<class 'pandas.core.frame.DataFrame'>\n",
            "RangeIndex: 8927 entries, 0 to 8926\n",
            "Data columns (total 9 columns):\n",
            " #   Column     Non-Null Count  Dtype \n",
            "---  ------     --------------  ----- \n",
            " 0   id         8927 non-null   int64 \n",
            " 1   name       8927 non-null   object\n",
            " 2   slug       8927 non-null   object\n",
            " 3   symbol     8927 non-null   object\n",
            " 4   status     8927 non-null   object\n",
            " 5   category   8869 non-null   object\n",
            " 6   tags       3754 non-null   object\n",
            " 7   tag_names  3747 non-null   object\n",
            " 8   website    8506 non-null   object\n",
            "dtypes: int64(1), object(8)\n",
            "memory usage: 627.8+ KB\n"
          ]
        },
        {
          "output_type": "execute_result",
          "data": {
            "text/plain": [
              "id              0\n",
              "name            0\n",
              "slug            0\n",
              "symbol          0\n",
              "status          0\n",
              "category       58\n",
              "tags         5173\n",
              "tag_names    5180\n",
              "website       421\n",
              "dtype: int64"
            ]
          },
          "metadata": {},
          "execution_count": 14
        }
      ]
    },
    {
      "cell_type": "markdown",
      "source": [
        "### Data Preparation"
      ],
      "metadata": {
        "id": "6dtzHFn0On1J"
      }
    },
    {
      "cell_type": "code",
      "source": [
        "#drop data with missing values\n",
        "data.dropna(inplace=True)"
      ],
      "metadata": {
        "id": "DunMosAnOplH"
      },
      "execution_count": null,
      "outputs": []
    },
    {
      "cell_type": "code",
      "source": [
        "data.info()"
      ],
      "metadata": {
        "id": "2yuETrlt4T4P",
        "colab": {
          "base_uri": "https://localhost:8080/"
        },
        "outputId": "6293b7da-7de6-4e3c-bf10-d291752d5a8f"
      },
      "execution_count": null,
      "outputs": [
        {
          "output_type": "stream",
          "name": "stdout",
          "text": [
            "<class 'pandas.core.frame.DataFrame'>\n",
            "Int64Index: 3610 entries, 0 to 8893\n",
            "Data columns (total 9 columns):\n",
            " #   Column     Non-Null Count  Dtype \n",
            "---  ------     --------------  ----- \n",
            " 0   id         3610 non-null   int64 \n",
            " 1   name       3610 non-null   object\n",
            " 2   slug       3610 non-null   object\n",
            " 3   symbol     3610 non-null   object\n",
            " 4   status     3610 non-null   object\n",
            " 5   category   3610 non-null   object\n",
            " 6   tags       3610 non-null   object\n",
            " 7   tag_names  3610 non-null   object\n",
            " 8   website    3610 non-null   object\n",
            "dtypes: int64(1), object(8)\n",
            "memory usage: 282.0+ KB\n"
          ]
        }
      ]
    },
    {
      "cell_type": "code",
      "source": [
        "sns.countplot(data.status)\n",
        "plt.show()"
      ],
      "metadata": {
        "colab": {
          "base_uri": "https://localhost:8080/",
          "height": 335
        },
        "id": "nlckVHrw5vAL",
        "outputId": "10b3fa36-4ca1-4be8-af17-a448065ce9d4"
      },
      "execution_count": null,
      "outputs": [
        {
          "output_type": "stream",
          "name": "stderr",
          "text": [
            "/usr/local/lib/python3.7/dist-packages/seaborn/_decorators.py:43: FutureWarning: Pass the following variable as a keyword arg: x. From version 0.12, the only valid positional argument will be `data`, and passing other arguments without an explicit keyword will result in an error or misinterpretation.\n",
            "  FutureWarning\n"
          ]
        },
        {
          "output_type": "display_data",
          "data": {
            "text/plain": [
              "<Figure size 432x288 with 1 Axes>"
            ],
            "image/png": "[encoded data removed]"
          },
          "metadata": {
            "needs_background": "light"
          }
        }
      ]
    },
    {
      "cell_type": "code",
      "source": [
        "sns.countplot(data.category)\n",
        "plt.show()"
      ],
      "metadata": {
        "colab": {
          "base_uri": "https://localhost:8080/",
          "height": 335
        },
        "id": "4xokaS9M5u25",
        "outputId": "ca0a24b9-3fa9-4672-90e6-5a6115e496af"
      },
      "execution_count": null,
      "outputs": [
        {
          "output_type": "stream",
          "name": "stderr",
          "text": [
            "/usr/local/lib/python3.7/dist-packages/seaborn/_decorators.py:43: FutureWarning: Pass the following variable as a keyword arg: x. From version 0.12, the only valid positional argument will be `data`, and passing other arguments without an explicit keyword will result in an error or misinterpretation.\n",
            "  FutureWarning\n"
          ]
        },
        {
          "output_type": "display_data",
          "data": {
            "text/plain": [
              "<Figure size 432x288 with 1 Axes>"
            ],
            "image/png": "[encoded data removed]"
          },
          "metadata": {
            "needs_background": "light"
          }
        }
      ]
    },
    {
      "cell_type": "code",
      "source": [
        "#drop data with untracked & inactive status\n",
        "index = data[(data['status'] == 'untracked') | (data['status'] == 'inactive')].index\n",
        "data.drop(index, inplace = True)"
      ],
      "metadata": {
        "id": "jwsBLJQN7rBn"
      },
      "execution_count": null,
      "outputs": []
    },
    {
      "cell_type": "code",
      "source": [
        "sns.countplot(data.status)\n",
        "plt.show()"
      ],
      "metadata": {
        "colab": {
          "base_uri": "https://localhost:8080/",
          "height": 335
        },
        "id": "ufD3MJcGss-I",
        "outputId": "d8bbdebe-d9fd-4c07-8686-d2f464bd00ed"
      },
      "execution_count": null,
      "outputs": [
        {
          "output_type": "stream",
          "name": "stderr",
          "text": [
            "/usr/local/lib/python3.7/dist-packages/seaborn/_decorators.py:43: FutureWarning: Pass the following variable as a keyword arg: x. From version 0.12, the only valid positional argument will be `data`, and passing other arguments without an explicit keyword will result in an error or misinterpretation.\n",
            "  FutureWarning\n"
          ]
        },
        {
          "output_type": "display_data",
          "data": {
            "text/plain": [
              "<Figure size 432x288 with 1 Axes>"
            ],
            "image/png": "[encoded data removed]"
          },
          "metadata": {
            "needs_background": "light"
          }
        }
      ]
    },
    {
      "cell_type": "code",
      "source": [
        "data.info()"
      ],
      "metadata": {
        "colab": {
          "base_uri": "https://localhost:8080/"
        },
        "id": "_ggiQD5ts27Q",
        "outputId": "7bf8c559-2ffb-40ab-dfe9-be56532c5de3"
      },
      "execution_count": null,
      "outputs": [
        {
          "output_type": "stream",
          "name": "stdout",
          "text": [
            "<class 'pandas.core.frame.DataFrame'>\n",
            "Int64Index: 2540 entries, 0 to 8893\n",
            "Data columns (total 9 columns):\n",
            " #   Column     Non-Null Count  Dtype \n",
            "---  ------     --------------  ----- \n",
            " 0   id         2540 non-null   int64 \n",
            " 1   name       2540 non-null   object\n",
            " 2   slug       2540 non-null   object\n",
            " 3   symbol     2540 non-null   object\n",
            " 4   status     2540 non-null   object\n",
            " 5   category   2540 non-null   object\n",
            " 6   tags       2540 non-null   object\n",
            " 7   tag_names  2540 non-null   object\n",
            " 8   website    2540 non-null   object\n",
            "dtypes: int64(1), object(8)\n",
            "memory usage: 263.0+ KB\n"
          ]
        }
      ]
    },
    {
      "cell_type": "code",
      "source": [
        "data.head()"
      ],
      "metadata": {
        "colab": {
          "base_uri": "https://localhost:8080/",
          "height": 206
        },
        "id": "QpKZdJY4s40e",
        "outputId": "7eea8388-bfad-4763-f03b-7be0dbd9c3e8"
      },
      "execution_count": null,
      "outputs": [
        {
          "output_type": "execute_result",
          "data": {
            "text/plain": [
              "   id       name       slug symbol  status category  \\\n",
              "0   1    Bitcoin    bitcoin    BTC  active     coin   \n",
              "1   2   Litecoin   litecoin    LTC  active     coin   \n",
              "2   3   Namecoin   namecoin    NMC  active     coin   \n",
              "3   4  Terracoin  terracoin    TRC  active     coin   \n",
              "4   5   Peercoin   peercoin    PPC  active     coin   \n",
              "\n",
              "                                                tags  \\\n",
              "0  mineable, pow, sha-256, store-of-value, state-...   \n",
              "1  mineable, pow, scrypt, medium-of-exchange, bin...   \n",
              "2                   mineable, pow, sha-256, platform   \n",
              "3                mineable, pow, sha-256, masternodes   \n",
              "4  mineable, hybrid-pow-pos, sha-256, medium-of-e...   \n",
              "\n",
              "                                           tag_names  \\\n",
              "0  Mineable, PoW, SHA-256, Store of Value, State ...   \n",
              "1  Mineable, PoW, Scrypt, Medium of Exchange, Bin...   \n",
              "2                   Mineable, PoW, SHA-256, Platform   \n",
              "3                Mineable, PoW, SHA-256, Masternodes   \n",
              "4  Mineable, Hybrid - PoW & PoS, SHA-256, Medium ...   \n",
              "\n",
              "                     website  \n",
              "0       https://bitcoin.org/  \n",
              "1      https://litecoin.org/  \n",
              "2  https://www.namecoin.org/  \n",
              "3   http://www.terracoin.io/  \n",
              "4    http://www.peercoin.net  "
            ],
            "text/html": [
              "\n",
              "  <div id=\"df-1df9eb81-bbe2-48d2-89ef-ef5bbcef531f\">\n",
              "    <div class=\"colab-df-container\">\n",
              "      <div>\n",
              "<style scoped>\n",
              "    .dataframe tbody tr th:only-of-type {\n",
              "        vertical-align: middle;\n",
              "    }\n",
              "\n",
              "    .dataframe tbody tr th {\n",
              "        vertical-align: top;\n",
              "    }\n",
              "\n",
              "    .dataframe thead th {\n",
              "        text-align: right;\n",
              "    }\n",
              "</style>\n",
              "<table border=\"1\" class=\"dataframe\">\n",
              "  <thead>\n",
              "    <tr style=\"text-align: right;\">\n",
              "      <th></th>\n",
              "      <th>id</th>\n",
              "      <th>name</th>\n",
              "      <th>slug</th>\n",
              "      <th>symbol</th>\n",
              "      <th>status</th>\n",
              "      <th>category</th>\n",
              "      <th>tags</th>\n",
              "      <th>tag_names</th>\n",
              "      <th>website</th>\n",
              "    </tr>\n",
              "  </thead>\n",
              "  <tbody>\n",
              "    <tr>\n",
              "      <th>0</th>\n",
              "      <td>1</td>\n",
              "      <td>Bitcoin</td>\n",
              "      <td>bitcoin</td>\n",
              "      <td>BTC</td>\n",
              "      <td>active</td>\n",
              "      <td>coin</td>\n",
              "      <td>mineable, pow, sha-256, store-of-value, state-...</td>\n",
              "      <td>Mineable, PoW, SHA-256, Store of Value, State ...</td>\n",
              "      <td>https://bitcoin.org/</td>\n",
              "    </tr>\n",
              "    <tr>\n",
              "      <th>1</th>\n",
              "      <td>2</td>\n",
              "      <td>Litecoin</td>\n",
              "      <td>litecoin</td>\n",
              "      <td>LTC</td>\n",
              "      <td>active</td>\n",
              "      <td>coin</td>\n",
              "      <td>mineable, pow, scrypt, medium-of-exchange, bin...</td>\n",
              "      <td>Mineable, PoW, Scrypt, Medium of Exchange, Bin...</td>\n",
              "      <td>https://litecoin.org/</td>\n",
              "    </tr>\n",
              "    <tr>\n",
              "      <th>2</th>\n",
              "      <td>3</td>\n",
              "      <td>Namecoin</td>\n",
              "      <td>namecoin</td>\n",
              "      <td>NMC</td>\n",
              "      <td>active</td>\n",
              "      <td>coin</td>\n",
              "      <td>mineable, pow, sha-256, platform</td>\n",
              "      <td>Mineable, PoW, SHA-256, Platform</td>\n",
              "      <td>https://www.namecoin.org/</td>\n",
              "    </tr>\n",
              "    <tr>\n",
              "      <th>3</th>\n",
              "      <td>4</td>\n",
              "      <td>Terracoin</td>\n",
              "      <td>terracoin</td>\n",
              "      <td>TRC</td>\n",
              "      <td>active</td>\n",
              "      <td>coin</td>\n",
              "      <td>mineable, pow, sha-256, masternodes</td>\n",
              "      <td>Mineable, PoW, SHA-256, Masternodes</td>\n",
              "      <td>http://www.terracoin.io/</td>\n",
              "    </tr>\n",
              "    <tr>\n",
              "      <th>4</th>\n",
              "      <td>5</td>\n",
              "      <td>Peercoin</td>\n",
              "      <td>peercoin</td>\n",
              "      <td>PPC</td>\n",
              "      <td>active</td>\n",
              "      <td>coin</td>\n",
              "      <td>mineable, hybrid-pow-pos, sha-256, medium-of-e...</td>\n",
              "      <td>Mineable, Hybrid - PoW &amp; PoS, SHA-256, Medium ...</td>\n",
              "      <td>http://www.peercoin.net</td>\n",
              "    </tr>\n",
              "  </tbody>\n",
              "</table>\n",
              "</div>\n",
              "      <button class=\"colab-df-convert\" onclick=\"convertToInteractive('df-1df9eb81-bbe2-48d2-89ef-ef5bbcef531f')\"\n",
              "              title=\"Convert this dataframe to an interactive table.\"\n",
              "              style=\"display:none;\">\n",
              "        \n",
              "  <svg xmlns=\"http://www.w3.org/2000/svg\" height=\"24px\"viewBox=\"0 0 24 24\"\n",
              "       width=\"24px\">\n",
              "    <path d=\"M0 0h24v24H0V0z\" fill=\"none\"/>\n",
              "    <path d=\"M18.56 5.44l.94 2.06.94-2.06 2.06-.94-2.06-.94-.94-2.06-.94 2.06-2.06.94zm-11 1L8.5 8.5l.94-2.06 2.06-.94-2.06-.94L8.5 2.5l-.94 2.06-2.06.94zm10 10l.94 2.06.94-2.06 2.06-.94-2.06-.94-.94-2.06-.94 2.06-2.06.94z\"/><path d=\"M17.41 7.96l-1.37-1.37c-.4-.4-.92-.59-1.43-.59-.52 0-1.04.2-1.43.59L10.3 9.45l-7.72 7.72c-.78.78-.78 2.05 0 2.83L4 21.41c.39.39.9.59 1.41.59.51 0 1.02-.2 1.41-.59l7.78-7.78 2.81-2.81c.8-.78.8-2.07 0-2.86zM5.41 20L4 18.59l7.72-7.72 1.47 1.35L5.41 20z\"/>\n",
              "  </svg>\n",
              "      </button>\n",
              "      \n",
              "  <style>\n",
              "    .colab-df-container {\n",
              "      display:flex;\n",
              "      flex-wrap:wrap;\n",
              "      gap: 12px;\n",
              "    }\n",
              "\n",
              "    .colab-df-convert {\n",
              "      background-color: #E8F0FE;\n",
              "      border: none;\n",
              "      border-radius: 50%;\n",
              "      cursor: pointer;\n",
              "      display: none;\n",
              "      fill: #1967D2;\n",
              "      height: 32px;\n",
              "      padding: 0 0 0 0;\n",
              "      width: 32px;\n",
              "    }\n",
              "\n",
              "    .colab-df-convert:hover {\n",
              "      background-color: #E2EBFA;\n",
              "      box-shadow: 0px 1px 2px rgba(60, 64, 67, 0.3), 0px 1px 3px 1px rgba(60, 64, 67, 0.15);\n",
              "      fill: #174EA6;\n",
              "    }\n",
              "\n",
              "    [theme=dark] .colab-df-convert {\n",
              "      background-color: #3B4455;\n",
              "      fill: #D2E3FC;\n",
              "    }\n",
              "\n",
              "    [theme=dark] .colab-df-convert:hover {\n",
              "      background-color: #434B5C;\n",
              "      box-shadow: 0px 1px 3px 1px rgba(0, 0, 0, 0.15);\n",
              "      filter: drop-shadow(0px 1px 2px rgba(0, 0, 0, 0.3));\n",
              "      fill: #FFFFFF;\n",
              "    }\n",
              "  </style>\n",
              "\n",
              "      <script>\n",
              "        const buttonEl =\n",
              "          document.querySelector('#df-1df9eb81-bbe2-48d2-89ef-ef5bbcef531f button.colab-df-convert');\n",
              "        buttonEl.style.display =\n",
              "          google.colab.kernel.accessAllowed ? 'block' : 'none';\n",
              "\n",
              "        async function convertToInteractive(key) {\n",
              "          const element = document.querySelector('#df-1df9eb81-bbe2-48d2-89ef-ef5bbcef531f');\n",
              "          const dataTable =\n",
              "            await google.colab.kernel.invokeFunction('convertToInteractive',\n",
              "                                                     [key], {});\n",
              "          if (!dataTable) return;\n",
              "\n",
              "          const docLinkHtml = 'Like what you see? Visit the ' +\n",
              "            '<a target=\"_blank\" href=https://colab.research.google.com/notebooks/data_table.ipynb>data table notebook</a>'\n",
              "            + ' to learn more about interactive tables.';\n",
              "          element.innerHTML = '';\n",
              "          dataTable['output_type'] = 'display_data';\n",
              "          await google.colab.output.renderOutput(dataTable, element);\n",
              "          const docLink = document.createElement('div');\n",
              "          docLink.innerHTML = docLinkHtml;\n",
              "          element.appendChild(docLink);\n",
              "        }\n",
              "      </script>\n",
              "    </div>\n",
              "  </div>\n",
              "  "
            ]
          },
          "metadata": {},
          "execution_count": 27
        }
      ]
    },
    {
      "cell_type": "markdown",
      "source": [
        "### Model"
      ],
      "metadata": {
        "id": "FoiS_V6Iv0RT"
      }
    },
    {
      "cell_type": "markdown",
      "source": [
        "TF-IDF"
      ],
      "metadata": {
        "id": "1b9kFD_6O1i5"
      }
    },
    {
      "cell_type": "markdown",
      "source": [
        "Cosine Similarity"
      ],
      "metadata": {
        "id": "QtAXxkLqPNrX"
      }
    },
    {
      "cell_type": "markdown",
      "source": [
        "Recommender"
      ],
      "metadata": {
        "id": "5mAQzMBsPQ2t"
      }
    },
    {
      "cell_type": "markdown",
      "source": [
        "### Evaluate"
      ],
      "metadata": {
        "id": "gNzE8lusv1JX"
      }
    }
  ]
}